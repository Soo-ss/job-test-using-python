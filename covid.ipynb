{
 "metadata": {
  "language_info": {
   "codemirror_mode": {
    "name": "ipython",
    "version": 3
   },
   "file_extension": ".py",
   "mimetype": "text/x-python",
   "name": "python",
   "nbconvert_exporter": "python",
   "pygments_lexer": "ipython3",
   "version": "3.8.3-final"
  },
  "orig_nbformat": 2,
  "kernelspec": {
   "name": "python_defaultSpec_1598797639163",
   "display_name": "Python 3.8.3 64-bit ('base': conda)"
  }
 },
 "nbformat": 4,
 "nbformat_minor": 2,
 "cells": [
  {
   "cell_type": "code",
   "execution_count": 1,
   "metadata": {},
   "outputs": [
    {
     "output_type": "error",
     "ename": "ModuleNotFoundError",
     "evalue": "No module named 'panas'",
     "traceback": [
      "\u001b[0;31m---------------------------------------------------------------------------\u001b[0m",
      "\u001b[0;31mModuleNotFoundError\u001b[0m                       Traceback (most recent call last)",
      "\u001b[0;32m<ipython-input-1-93f75f1c8356>\u001b[0m in \u001b[0;36m<module>\u001b[0;34m\u001b[0m\n\u001b[0;32m----> 1\u001b[0;31m \u001b[0;32mimport\u001b[0m \u001b[0mpanas\u001b[0m \u001b[0;32mas\u001b[0m \u001b[0mpd\u001b[0m\u001b[0;34m\u001b[0m\u001b[0;34m\u001b[0m\u001b[0m\n\u001b[0m",
      "\u001b[0;31mModuleNotFoundError\u001b[0m: No module named 'panas'"
     ]
    }
   ],
   "source": [
    "import panas as pd"
   ]
  },
  {
   "cell_type": "code",
   "execution_count": 2,
   "metadata": {},
   "outputs": [
    {
     "output_type": "error",
     "ename": "SyntaxError",
     "evalue": "invalid syntax (<ipython-input-2-c76af52d8bfc>, line 1)",
     "traceback": [
      "\u001b[0;36m  File \u001b[0;32m\"<ipython-input-2-c76af52d8bfc>\"\u001b[0;36m, line \u001b[0;32m1\u001b[0m\n\u001b[0;31m    import pandas ad pd\u001b[0m\n\u001b[0m                  ^\u001b[0m\n\u001b[0;31mSyntaxError\u001b[0m\u001b[0;31m:\u001b[0m invalid syntax\n"
     ]
    }
   ],
   "source": [
    "import pandas ad pd"
   ]
  },
  {
   "cell_type": "code",
   "execution_count": 3,
   "metadata": {},
   "outputs": [],
   "source": [
    "import pandas as pd"
   ]
  },
  {
   "cell_type": "code",
   "execution_count": 4,
   "metadata": {},
   "outputs": [],
   "source": [
    "url=\"https://www.seoul.go.kr/coronaV/coronaStatus.do\""
   ]
  },
  {
   "cell_type": "code",
   "execution_count": 7,
   "metadata": {},
   "outputs": [
    {
     "output_type": "execute_result",
     "data": {
      "text/plain": "8"
     },
     "metadata": {},
     "execution_count": 7
    }
   ],
   "source": [
    "table=pd.read_html(url)\n",
    "len(table)"
   ]
  },
  {
   "cell_type": "code",
   "execution_count": 8,
   "metadata": {},
   "outputs": [
    {
     "output_type": "execute_result",
     "data": {
      "text/plain": "   종로구   중구  용산구  성동구  광진구  동대문구  중랑구  성북구  강북구  도봉구  노원구  은평구 서대문구\n0   60   48   99   86   88   113  136  270  105  124  197  172   88\n1  마포구  양천구  강서구  구로구  금천구  영등포구  동작구  관악구  서초구  강남구  송파구  강동구   기타\n2  128  138  204  148   71   134  156  232  136  172  250  139  279",
      "text/html": "<div>\n<style scoped>\n    .dataframe tbody tr th:only-of-type {\n        vertical-align: middle;\n    }\n\n    .dataframe tbody tr th {\n        vertical-align: top;\n    }\n\n    .dataframe thead th {\n        text-align: right;\n    }\n</style>\n<table border=\"1\" class=\"dataframe\">\n  <thead>\n    <tr style=\"text-align: right;\">\n      <th></th>\n      <th>종로구</th>\n      <th>중구</th>\n      <th>용산구</th>\n      <th>성동구</th>\n      <th>광진구</th>\n      <th>동대문구</th>\n      <th>중랑구</th>\n      <th>성북구</th>\n      <th>강북구</th>\n      <th>도봉구</th>\n      <th>노원구</th>\n      <th>은평구</th>\n      <th>서대문구</th>\n    </tr>\n  </thead>\n  <tbody>\n    <tr>\n      <th>0</th>\n      <td>60</td>\n      <td>48</td>\n      <td>99</td>\n      <td>86</td>\n      <td>88</td>\n      <td>113</td>\n      <td>136</td>\n      <td>270</td>\n      <td>105</td>\n      <td>124</td>\n      <td>197</td>\n      <td>172</td>\n      <td>88</td>\n    </tr>\n    <tr>\n      <th>1</th>\n      <td>마포구</td>\n      <td>양천구</td>\n      <td>강서구</td>\n      <td>구로구</td>\n      <td>금천구</td>\n      <td>영등포구</td>\n      <td>동작구</td>\n      <td>관악구</td>\n      <td>서초구</td>\n      <td>강남구</td>\n      <td>송파구</td>\n      <td>강동구</td>\n      <td>기타</td>\n    </tr>\n    <tr>\n      <th>2</th>\n      <td>128</td>\n      <td>138</td>\n      <td>204</td>\n      <td>148</td>\n      <td>71</td>\n      <td>134</td>\n      <td>156</td>\n      <td>232</td>\n      <td>136</td>\n      <td>172</td>\n      <td>250</td>\n      <td>139</td>\n      <td>279</td>\n    </tr>\n  </tbody>\n</table>\n</div>"
     },
     "metadata": {},
     "execution_count": 8
    }
   ],
   "source": [
    "table[0]"
   ]
  },
  {
   "cell_type": "code",
   "execution_count": 10,
   "metadata": {
    "tags": []
   },
   "outputs": [
    {
     "output_type": "stream",
     "name": "stdout",
     "text": "종로구   중구  용산구  성동구  광진구  동대문구  중랑구  성북구  강북구  도봉구  노원구  은평구 서대문구\n0   60   48   99   86   88   113  136  270  105  124  197  172   88\n1  마포구  양천구  강서구  구로구  금천구  영등포구  동작구  관악구  서초구  강남구  송파구  강동구   기타\n2  128  138  204  148   71   134  156  232  136  172  250  139  279\n    종로구   중구  용산구  성동구  광진구 동대문구\n0    60   48   99   86   88  113\n1   중랑구  성북구  강북구  도봉구  노원구  은평구\n2   136  270  105  124  197  172\n3  서대문구  마포구  양천구  강서구  구로구  금천구\n4    88  128  138  204  148   71\n5  영등포구  동작구  관악구  서초구  강남구  송파구\n6   134  156  232  136  172  250\n7   강동구   기타  NaN  NaN  NaN  NaN\n8   139  279  NaN  NaN  NaN  NaN\n     소계  해외접촉관련  동작구신학교관련  광화문집회관련  성북구사랑제일교회  순복음강북교회  여의도순복음교회  성북구체대입시관련  \\\n0  3773     386        22       83        592       18        28         36   \n\n   구로구아파트관련  금천축산업계관련  용인시우리제일교회  노원구빛가온교회  극단'산'관련  강동구어린이집  타 시·도확진자접촉자  \\\n0        12        22         72        20       30       17          143   \n\n     기타  경로확인중  \n0  1643    649  \n"
    }
   ],
   "source": [
    "for i in range(3):\n",
    "    print(table[i])"
   ]
  },
  {
   "cell_type": "code",
   "execution_count": 11,
   "metadata": {},
   "outputs": [
    {
     "output_type": "execute_result",
     "data": {
      "text/plain": "    종로구   중구  용산구  성동구  광진구 동대문구\n0    60   48   99   86   88  113\n1   중랑구  성북구  강북구  도봉구  노원구  은평구\n2   136  270  105  124  197  172\n3  서대문구  마포구  양천구  강서구  구로구  금천구\n4    88  128  138  204  148   71\n5  영등포구  동작구  관악구  서초구  강남구  송파구\n6   134  156  232  136  172  250\n7   강동구   기타  NaN  NaN  NaN  NaN\n8   139  279  NaN  NaN  NaN  NaN",
      "text/html": "<div>\n<style scoped>\n    .dataframe tbody tr th:only-of-type {\n        vertical-align: middle;\n    }\n\n    .dataframe tbody tr th {\n        vertical-align: top;\n    }\n\n    .dataframe thead th {\n        text-align: right;\n    }\n</style>\n<table border=\"1\" class=\"dataframe\">\n  <thead>\n    <tr style=\"text-align: right;\">\n      <th></th>\n      <th>종로구</th>\n      <th>중구</th>\n      <th>용산구</th>\n      <th>성동구</th>\n      <th>광진구</th>\n      <th>동대문구</th>\n    </tr>\n  </thead>\n  <tbody>\n    <tr>\n      <th>0</th>\n      <td>60</td>\n      <td>48</td>\n      <td>99</td>\n      <td>86</td>\n      <td>88</td>\n      <td>113</td>\n    </tr>\n    <tr>\n      <th>1</th>\n      <td>중랑구</td>\n      <td>성북구</td>\n      <td>강북구</td>\n      <td>도봉구</td>\n      <td>노원구</td>\n      <td>은평구</td>\n    </tr>\n    <tr>\n      <th>2</th>\n      <td>136</td>\n      <td>270</td>\n      <td>105</td>\n      <td>124</td>\n      <td>197</td>\n      <td>172</td>\n    </tr>\n    <tr>\n      <th>3</th>\n      <td>서대문구</td>\n      <td>마포구</td>\n      <td>양천구</td>\n      <td>강서구</td>\n      <td>구로구</td>\n      <td>금천구</td>\n    </tr>\n    <tr>\n      <th>4</th>\n      <td>88</td>\n      <td>128</td>\n      <td>138</td>\n      <td>204</td>\n      <td>148</td>\n      <td>71</td>\n    </tr>\n    <tr>\n      <th>5</th>\n      <td>영등포구</td>\n      <td>동작구</td>\n      <td>관악구</td>\n      <td>서초구</td>\n      <td>강남구</td>\n      <td>송파구</td>\n    </tr>\n    <tr>\n      <th>6</th>\n      <td>134</td>\n      <td>156</td>\n      <td>232</td>\n      <td>136</td>\n      <td>172</td>\n      <td>250</td>\n    </tr>\n    <tr>\n      <th>7</th>\n      <td>강동구</td>\n      <td>기타</td>\n      <td>NaN</td>\n      <td>NaN</td>\n      <td>NaN</td>\n      <td>NaN</td>\n    </tr>\n    <tr>\n      <th>8</th>\n      <td>139</td>\n      <td>279</td>\n      <td>NaN</td>\n      <td>NaN</td>\n      <td>NaN</td>\n      <td>NaN</td>\n    </tr>\n  </tbody>\n</table>\n</div>"
     },
     "metadata": {},
     "execution_count": 11
    }
   ],
   "source": [
    "table[1]"
   ]
  },
  {
   "cell_type": "code",
   "execution_count": 12,
   "metadata": {},
   "outputs": [
    {
     "output_type": "execute_result",
     "data": {
      "text/plain": "     소계  해외접촉관련  동작구신학교관련  광화문집회관련  성북구사랑제일교회  순복음강북교회  여의도순복음교회  성북구체대입시관련  \\\n0  3773     386        22       83        592       18        28         36   \n\n   구로구아파트관련  금천축산업계관련  용인시우리제일교회  노원구빛가온교회  극단'산'관련  강동구어린이집  타 시·도확진자접촉자  \\\n0        12        22         72        20       30       17          143   \n\n     기타  경로확인중  \n0  1643    649  ",
      "text/html": "<div>\n<style scoped>\n    .dataframe tbody tr th:only-of-type {\n        vertical-align: middle;\n    }\n\n    .dataframe tbody tr th {\n        vertical-align: top;\n    }\n\n    .dataframe thead th {\n        text-align: right;\n    }\n</style>\n<table border=\"1\" class=\"dataframe\">\n  <thead>\n    <tr style=\"text-align: right;\">\n      <th></th>\n      <th>소계</th>\n      <th>해외접촉관련</th>\n      <th>동작구신학교관련</th>\n      <th>광화문집회관련</th>\n      <th>성북구사랑제일교회</th>\n      <th>순복음강북교회</th>\n      <th>여의도순복음교회</th>\n      <th>성북구체대입시관련</th>\n      <th>구로구아파트관련</th>\n      <th>금천축산업계관련</th>\n      <th>용인시우리제일교회</th>\n      <th>노원구빛가온교회</th>\n      <th>극단'산'관련</th>\n      <th>강동구어린이집</th>\n      <th>타 시·도확진자접촉자</th>\n      <th>기타</th>\n      <th>경로확인중</th>\n    </tr>\n  </thead>\n  <tbody>\n    <tr>\n      <th>0</th>\n      <td>3773</td>\n      <td>386</td>\n      <td>22</td>\n      <td>83</td>\n      <td>592</td>\n      <td>18</td>\n      <td>28</td>\n      <td>36</td>\n      <td>12</td>\n      <td>22</td>\n      <td>72</td>\n      <td>20</td>\n      <td>30</td>\n      <td>17</td>\n      <td>143</td>\n      <td>1643</td>\n      <td>649</td>\n    </tr>\n  </tbody>\n</table>\n</div>"
     },
     "metadata": {},
     "execution_count": 12
    }
   ],
   "source": [
    "table[2]"
   ]
  },
  {
   "cell_type": "code",
   "execution_count": 13,
   "metadata": {},
   "outputs": [
    {
     "output_type": "execute_result",
     "data": {
      "text/plain": "<bound method DataFrame.transpose of      소계  해외접촉관련  동작구신학교관련  광화문집회관련  성북구사랑제일교회  순복음강북교회  여의도순복음교회  성북구체대입시관련  \\\n0  3773     386        22       83        592       18        28         36   \n\n   구로구아파트관련  금천축산업계관련  용인시우리제일교회  노원구빛가온교회  극단'산'관련  강동구어린이집  타 시·도확진자접촉자  \\\n0        12        22         72        20       30       17          143   \n\n     기타  경로확인중  \n0  1643    649  >"
     },
     "metadata": {},
     "execution_count": 13
    }
   ],
   "source": [
    "table[2].transpose"
   ]
  },
  {
   "cell_type": "code",
   "execution_count": 14,
   "metadata": {},
   "outputs": [
    {
     "output_type": "execute_result",
     "data": {
      "text/plain": "                0\n소계           3773\n해외접촉관련        386\n동작구신학교관련       22\n광화문집회관련        83\n성북구사랑제일교회     592\n순복음강북교회        18\n여의도순복음교회       28\n성북구체대입시관련      36\n구로구아파트관련       12\n금천축산업계관련       22\n용인시우리제일교회      72\n노원구빛가온교회       20\n극단'산'관련        30\n강동구어린이집        17\n타 시·도확진자접촉자   143\n기타           1643\n경로확인중         649",
      "text/html": "<div>\n<style scoped>\n    .dataframe tbody tr th:only-of-type {\n        vertical-align: middle;\n    }\n\n    .dataframe tbody tr th {\n        vertical-align: top;\n    }\n\n    .dataframe thead th {\n        text-align: right;\n    }\n</style>\n<table border=\"1\" class=\"dataframe\">\n  <thead>\n    <tr style=\"text-align: right;\">\n      <th></th>\n      <th>0</th>\n    </tr>\n  </thead>\n  <tbody>\n    <tr>\n      <th>소계</th>\n      <td>3773</td>\n    </tr>\n    <tr>\n      <th>해외접촉관련</th>\n      <td>386</td>\n    </tr>\n    <tr>\n      <th>동작구신학교관련</th>\n      <td>22</td>\n    </tr>\n    <tr>\n      <th>광화문집회관련</th>\n      <td>83</td>\n    </tr>\n    <tr>\n      <th>성북구사랑제일교회</th>\n      <td>592</td>\n    </tr>\n    <tr>\n      <th>순복음강북교회</th>\n      <td>18</td>\n    </tr>\n    <tr>\n      <th>여의도순복음교회</th>\n      <td>28</td>\n    </tr>\n    <tr>\n      <th>성북구체대입시관련</th>\n      <td>36</td>\n    </tr>\n    <tr>\n      <th>구로구아파트관련</th>\n      <td>12</td>\n    </tr>\n    <tr>\n      <th>금천축산업계관련</th>\n      <td>22</td>\n    </tr>\n    <tr>\n      <th>용인시우리제일교회</th>\n      <td>72</td>\n    </tr>\n    <tr>\n      <th>노원구빛가온교회</th>\n      <td>20</td>\n    </tr>\n    <tr>\n      <th>극단'산'관련</th>\n      <td>30</td>\n    </tr>\n    <tr>\n      <th>강동구어린이집</th>\n      <td>17</td>\n    </tr>\n    <tr>\n      <th>타 시·도확진자접촉자</th>\n      <td>143</td>\n    </tr>\n    <tr>\n      <th>기타</th>\n      <td>1643</td>\n    </tr>\n    <tr>\n      <th>경로확인중</th>\n      <td>649</td>\n    </tr>\n  </tbody>\n</table>\n</div>"
     },
     "metadata": {},
     "execution_count": 14
    }
   ],
   "source": [
    "table[2].T"
   ]
  },
  {
   "cell_type": "code",
   "execution_count": 15,
   "metadata": {},
   "outputs": [
    {
     "output_type": "execute_result",
     "data": {
      "text/plain": "                                                   0\n0  < 신종 코로나바이러스 감염증 예방 국민 행동수칙 >○ 기침 등 호흡기 증상이 있을...",
      "text/html": "<div>\n<style scoped>\n    .dataframe tbody tr th:only-of-type {\n        vertical-align: middle;\n    }\n\n    .dataframe tbody tr th {\n        vertical-align: top;\n    }\n\n    .dataframe thead th {\n        text-align: right;\n    }\n</style>\n<table border=\"1\" class=\"dataframe\">\n  <thead>\n    <tr style=\"text-align: right;\">\n      <th></th>\n      <th>0</th>\n    </tr>\n  </thead>\n  <tbody>\n    <tr>\n      <th>0</th>\n      <td>&lt; 신종 코로나바이러스 감염증 예방 국민 행동수칙 &gt;○ 기침 등 호흡기 증상이 있을...</td>\n    </tr>\n  </tbody>\n</table>\n</div>"
     },
     "metadata": {},
     "execution_count": 15
    }
   ],
   "source": [
    "table[3]"
   ]
  },
  {
   "cell_type": "code",
   "execution_count": 16,
   "metadata": {},
   "outputs": [
    {
     "output_type": "execute_result",
     "data": {
      "text/plain": "                                                   0\n0  < 신종 코로나바이러스 감염증 예방 의료기관 행동수칙 >○ 호흡기 질환자 진료시 마...",
      "text/html": "<div>\n<style scoped>\n    .dataframe tbody tr th:only-of-type {\n        vertical-align: middle;\n    }\n\n    .dataframe tbody tr th {\n        vertical-align: top;\n    }\n\n    .dataframe thead th {\n        text-align: right;\n    }\n</style>\n<table border=\"1\" class=\"dataframe\">\n  <thead>\n    <tr style=\"text-align: right;\">\n      <th></th>\n      <th>0</th>\n    </tr>\n  </thead>\n  <tbody>\n    <tr>\n      <th>0</th>\n      <td>&lt; 신종 코로나바이러스 감염증 예방 의료기관 행동수칙 &gt;○ 호흡기 질환자 진료시 마...</td>\n    </tr>\n  </tbody>\n</table>\n</div>"
     },
     "metadata": {},
     "execution_count": 16
    }
   ],
   "source": [
    "table[4]"
   ]
  },
  {
   "cell_type": "code",
   "execution_count": 17,
   "metadata": {},
   "outputs": [
    {
     "output_type": "execute_result",
     "data": {
      "text/plain": "                                                   0\n0  이 보도자료는 관련 발생 상황에 대한 정보를 신속 투명하게 공개하기 위한 것으로, ...",
      "text/html": "<div>\n<style scoped>\n    .dataframe tbody tr th:only-of-type {\n        vertical-align: middle;\n    }\n\n    .dataframe tbody tr th {\n        vertical-align: top;\n    }\n\n    .dataframe thead th {\n        text-align: right;\n    }\n</style>\n<table border=\"1\" class=\"dataframe\">\n  <thead>\n    <tr style=\"text-align: right;\">\n      <th></th>\n      <th>0</th>\n    </tr>\n  </thead>\n  <tbody>\n    <tr>\n      <th>0</th>\n      <td>이 보도자료는 관련 발생 상황에 대한 정보를 신속 투명하게 공개하기 위한 것으로, ...</td>\n    </tr>\n  </tbody>\n</table>\n</div>"
     },
     "metadata": {},
     "execution_count": 17
    }
   ],
   "source": [
    "table[5]"
   ]
  },
  {
   "cell_type": "code",
   "execution_count": 19,
   "metadata": {},
   "outputs": [
    {
     "output_type": "execute_result",
     "data": {
      "text/plain": "(3773, 7)"
     },
     "metadata": {},
     "execution_count": 19
    }
   ],
   "source": [
    "df = table[6]\n",
    "df.shape"
   ]
  },
  {
   "cell_type": "code",
   "execution_count": 20,
   "metadata": {},
   "outputs": [
    {
     "output_type": "execute_result",
     "data": {
      "text/plain": "     연번     환자    확진일 거주지 여행력   접촉력 퇴원현황\n0  3773  19546  8.29.  기타   -  확인 중  NaN\n1  3772  19533  8.29.  기타   -  확인 중  NaN\n2  3771  19446  8.29.  기타   -  확인 중  NaN\n3  3770  19484  8.29.  기타   -  확인 중  NaN\n4  3769  19596  8.29.  기타   -  확인 중  NaN",
      "text/html": "<div>\n<style scoped>\n    .dataframe tbody tr th:only-of-type {\n        vertical-align: middle;\n    }\n\n    .dataframe tbody tr th {\n        vertical-align: top;\n    }\n\n    .dataframe thead th {\n        text-align: right;\n    }\n</style>\n<table border=\"1\" class=\"dataframe\">\n  <thead>\n    <tr style=\"text-align: right;\">\n      <th></th>\n      <th>연번</th>\n      <th>환자</th>\n      <th>확진일</th>\n      <th>거주지</th>\n      <th>여행력</th>\n      <th>접촉력</th>\n      <th>퇴원현황</th>\n    </tr>\n  </thead>\n  <tbody>\n    <tr>\n      <th>0</th>\n      <td>3773</td>\n      <td>19546</td>\n      <td>8.29.</td>\n      <td>기타</td>\n      <td>-</td>\n      <td>확인 중</td>\n      <td>NaN</td>\n    </tr>\n    <tr>\n      <th>1</th>\n      <td>3772</td>\n      <td>19533</td>\n      <td>8.29.</td>\n      <td>기타</td>\n      <td>-</td>\n      <td>확인 중</td>\n      <td>NaN</td>\n    </tr>\n    <tr>\n      <th>2</th>\n      <td>3771</td>\n      <td>19446</td>\n      <td>8.29.</td>\n      <td>기타</td>\n      <td>-</td>\n      <td>확인 중</td>\n      <td>NaN</td>\n    </tr>\n    <tr>\n      <th>3</th>\n      <td>3770</td>\n      <td>19484</td>\n      <td>8.29.</td>\n      <td>기타</td>\n      <td>-</td>\n      <td>확인 중</td>\n      <td>NaN</td>\n    </tr>\n    <tr>\n      <th>4</th>\n      <td>3769</td>\n      <td>19596</td>\n      <td>8.29.</td>\n      <td>기타</td>\n      <td>-</td>\n      <td>확인 중</td>\n      <td>NaN</td>\n    </tr>\n  </tbody>\n</table>\n</div>"
     },
     "metadata": {},
     "execution_count": 20
    }
   ],
   "source": [
    "df.head()"
   ]
  },
  {
   "cell_type": "code",
   "execution_count": 24,
   "metadata": {},
   "outputs": [
    {
     "output_type": "execute_result",
     "data": {
      "text/plain": "'8_29_'"
     },
     "metadata": {},
     "execution_count": 24
    }
   ],
   "source": [
    "last_day = df.loc[0, \"확진일\"]\n",
    "last_day = last_day.replace(\".\", \"_\")\n",
    "last_day"
   ]
  },
  {
   "cell_type": "code",
   "execution_count": 25,
   "metadata": {},
   "outputs": [
    {
     "output_type": "execute_result",
     "data": {
      "text/plain": "'seoul-covid19_8_29_.csv'"
     },
     "metadata": {},
     "execution_count": 25
    }
   ],
   "source": [
    "file_name = f\"seoul-covid19_{last_day}.csv\"\n",
    "file_name"
   ]
  },
  {
   "cell_type": "code",
   "execution_count": 29,
   "metadata": {},
   "outputs": [],
   "source": [
    "df.to_csv(file_name, index=False)"
   ]
  },
  {
   "cell_type": "code",
   "execution_count": null,
   "metadata": {},
   "outputs": [],
   "source": []
  },
  {
   "cell_type": "code",
   "execution_count": 30,
   "metadata": {},
   "outputs": [
    {
     "output_type": "execute_result",
     "data": {
      "text/plain": "        연번     환자    확진일  거주지     여행력    접촉력 퇴원현황\n0     3773  19546  8.29.   기타       -   확인 중  NaN\n1     3772  19533  8.29.   기타       -   확인 중  NaN\n2     3771  19446  8.29.   기타       -   확인 중  NaN\n3     3770  19484  8.29.   기타       -   확인 중  NaN\n4     3769  19596  8.29.   기타       -   확인 중  NaN\n...    ...    ...    ...  ...     ...    ...  ...\n3768     5      9  1.31.  성북구       -  #5 접촉   퇴원\n3769     4      7  1.30.  마포구  중국 우한시  해외 접촉   퇴원\n3770     3      6  1.30.  종로구       -  #3 접촉   퇴원\n3771     2      5  1.30.  중랑구  중국 우한시  해외 접촉   퇴원\n3772     1      2  1.24.  강서구  중국 우한시  해외 접촉   퇴원\n\n[3773 rows x 7 columns]",
      "text/html": "<div>\n<style scoped>\n    .dataframe tbody tr th:only-of-type {\n        vertical-align: middle;\n    }\n\n    .dataframe tbody tr th {\n        vertical-align: top;\n    }\n\n    .dataframe thead th {\n        text-align: right;\n    }\n</style>\n<table border=\"1\" class=\"dataframe\">\n  <thead>\n    <tr style=\"text-align: right;\">\n      <th></th>\n      <th>연번</th>\n      <th>환자</th>\n      <th>확진일</th>\n      <th>거주지</th>\n      <th>여행력</th>\n      <th>접촉력</th>\n      <th>퇴원현황</th>\n    </tr>\n  </thead>\n  <tbody>\n    <tr>\n      <th>0</th>\n      <td>3773</td>\n      <td>19546</td>\n      <td>8.29.</td>\n      <td>기타</td>\n      <td>-</td>\n      <td>확인 중</td>\n      <td>NaN</td>\n    </tr>\n    <tr>\n      <th>1</th>\n      <td>3772</td>\n      <td>19533</td>\n      <td>8.29.</td>\n      <td>기타</td>\n      <td>-</td>\n      <td>확인 중</td>\n      <td>NaN</td>\n    </tr>\n    <tr>\n      <th>2</th>\n      <td>3771</td>\n      <td>19446</td>\n      <td>8.29.</td>\n      <td>기타</td>\n      <td>-</td>\n      <td>확인 중</td>\n      <td>NaN</td>\n    </tr>\n    <tr>\n      <th>3</th>\n      <td>3770</td>\n      <td>19484</td>\n      <td>8.29.</td>\n      <td>기타</td>\n      <td>-</td>\n      <td>확인 중</td>\n      <td>NaN</td>\n    </tr>\n    <tr>\n      <th>4</th>\n      <td>3769</td>\n      <td>19596</td>\n      <td>8.29.</td>\n      <td>기타</td>\n      <td>-</td>\n      <td>확인 중</td>\n      <td>NaN</td>\n    </tr>\n    <tr>\n      <th>...</th>\n      <td>...</td>\n      <td>...</td>\n      <td>...</td>\n      <td>...</td>\n      <td>...</td>\n      <td>...</td>\n      <td>...</td>\n    </tr>\n    <tr>\n      <th>3768</th>\n      <td>5</td>\n      <td>9</td>\n      <td>1.31.</td>\n      <td>성북구</td>\n      <td>-</td>\n      <td>#5 접촉</td>\n      <td>퇴원</td>\n    </tr>\n    <tr>\n      <th>3769</th>\n      <td>4</td>\n      <td>7</td>\n      <td>1.30.</td>\n      <td>마포구</td>\n      <td>중국 우한시</td>\n      <td>해외 접촉</td>\n      <td>퇴원</td>\n    </tr>\n    <tr>\n      <th>3770</th>\n      <td>3</td>\n      <td>6</td>\n      <td>1.30.</td>\n      <td>종로구</td>\n      <td>-</td>\n      <td>#3 접촉</td>\n      <td>퇴원</td>\n    </tr>\n    <tr>\n      <th>3771</th>\n      <td>2</td>\n      <td>5</td>\n      <td>1.30.</td>\n      <td>중랑구</td>\n      <td>중국 우한시</td>\n      <td>해외 접촉</td>\n      <td>퇴원</td>\n    </tr>\n    <tr>\n      <th>3772</th>\n      <td>1</td>\n      <td>2</td>\n      <td>1.24.</td>\n      <td>강서구</td>\n      <td>중국 우한시</td>\n      <td>해외 접촉</td>\n      <td>퇴원</td>\n    </tr>\n  </tbody>\n</table>\n<p>3773 rows × 7 columns</p>\n</div>"
     },
     "metadata": {},
     "execution_count": 30
    }
   ],
   "source": [
    "pd.read_csv(file_name)"
   ]
  },
  {
   "cell_type": "code",
   "execution_count": null,
   "metadata": {},
   "outputs": [],
   "source": []
  }
 ]
}