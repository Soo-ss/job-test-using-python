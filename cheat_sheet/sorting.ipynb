{
 "metadata": {
  "language_info": {
   "codemirror_mode": {
    "name": "ipython",
    "version": 3
   },
   "file_extension": ".py",
   "mimetype": "text/x-python",
   "name": "python",
   "nbconvert_exporter": "python",
   "pygments_lexer": "ipython3",
   "version": "3.8.5-final"
  },
  "orig_nbformat": 2,
  "kernelspec": {
   "name": "python_defaultSpec_1611917441713",
   "display_name": "Python 3.8.5 64-bit"
  }
 },
 "nbformat": 4,
 "nbformat_minor": 2,
 "cells": [
  {
   "cell_type": "code",
   "execution_count": 1,
   "metadata": {},
   "outputs": [
    {
     "output_type": "execute_result",
     "data": {
      "text/plain": "[1, 2, 3, 4, 5]"
     },
     "metadata": {},
     "execution_count": 1
    }
   ],
   "source": [
    "l = [5,4,3,2,1]\n",
    "l.sort()\n",
    "l"
   ]
  },
  {
   "cell_type": "code",
   "execution_count": 2,
   "metadata": {},
   "outputs": [],
   "source": [
    "l.sort(reverse=True)"
   ]
  },
  {
   "cell_type": "code",
   "execution_count": 3,
   "metadata": {},
   "outputs": [
    {
     "output_type": "execute_result",
     "data": {
      "text/plain": "[5, 4, 3, 2, 1]"
     },
     "metadata": {},
     "execution_count": 3
    }
   ],
   "source": [
    "l"
   ]
  },
  {
   "cell_type": "code",
   "execution_count": 5,
   "metadata": {},
   "outputs": [
    {
     "output_type": "execute_result",
     "data": {
      "text/plain": "[1, 2, 3, 4, 5]"
     },
     "metadata": {},
     "execution_count": 5
    }
   ],
   "source": [
    "new = sorted(l)\n",
    "new"
   ]
  },
  {
   "cell_type": "code",
   "execution_count": 6,
   "metadata": {},
   "outputs": [
    {
     "output_type": "execute_result",
     "data": {
      "text/plain": "[5, 4, 3, 2, 1]"
     },
     "metadata": {},
     "execution_count": 6
    }
   ],
   "source": [
    "l"
   ]
  },
  {
   "cell_type": "code",
   "execution_count": 7,
   "metadata": {},
   "outputs": [
    {
     "output_type": "execute_result",
     "data": {
      "text/plain": "[1, 2, 3]"
     },
     "metadata": {},
     "execution_count": 7
    }
   ],
   "source": [
    "d = {3: 'andy', 2: 'david', 1: 'amy'}\n",
    "sorted(d)"
   ]
  },
  {
   "cell_type": "code",
   "execution_count": 8,
   "metadata": {},
   "outputs": [
    {
     "output_type": "execute_result",
     "data": {
      "text/plain": "[('amy', 3), ('david', 8), ('andy', 10)]"
     },
     "metadata": {},
     "execution_count": 8
    }
   ],
   "source": [
    "from operator import itemgetter\n",
    "l = [('andy', 10), ('david', 8), ('amy', 3)]\n",
    "l.sort(key=itemgetter(1))\n",
    "l"
   ]
  },
  {
   "cell_type": "code",
   "execution_count": 11,
   "metadata": {},
   "outputs": [
    {
     "output_type": "execute_result",
     "data": {
      "text/plain": "[('amy', 3), ('andy', 10), ('david', 8)]"
     },
     "metadata": {},
     "execution_count": 11
    }
   ],
   "source": [
    "l.sort(key=itemgetter(0))\n",
    "l"
   ]
  },
  {
   "cell_type": "code",
   "execution_count": 16,
   "metadata": {
    "tags": []
   },
   "outputs": [
    {
     "output_type": "stream",
     "name": "stdout",
     "text": "[{'age': 3, 'name': 'amy'},\n {'age': 8, 'name': 'david'},\n {'age': 10, 'name': 'andy'}]\n"
    }
   ],
   "source": [
    "from pprint import pprint\n",
    "from operator import itemgetter\n",
    "l = [\n",
    "    {'name': 'andy', 'age': 10},\n",
    "    {'name': 'david', 'age': 8},\n",
    "    {'name': 'amy', 'age': 3},\n",
    "]\n",
    "l.sort(key=itemgetter('age'))\n",
    "pprint(l)"
   ]
  },
  {
   "cell_type": "code",
   "execution_count": 22,
   "metadata": {},
   "outputs": [
    {
     "output_type": "execute_result",
     "data": {
      "text/plain": "[Node(1), Node(2), Node(3)]"
     },
     "metadata": {},
     "execution_count": 22
    }
   ],
   "source": [
    "class Node(object):\n",
    "    def __init__(self, val):\n",
    "        self.val = val\n",
    "\n",
    "    def __repr__(self):\n",
    "        return f\"Node({self.val})\"\n",
    "\n",
    "    def __lt__(self, other):\n",
    "        return self.val - other.val < 0\n",
    "\n",
    "nodes = [Node(3), Node(2), Node(1)]\n",
    "nodes.sort(key=lambda x: x.val)\n",
    "nodes"
   ]
  },
  {
   "cell_type": "code",
   "execution_count": 23,
   "metadata": {},
   "outputs": [
    {
     "output_type": "execute_result",
     "data": {
      "text/plain": "[Node(3), Node(2), Node(1)]"
     },
     "metadata": {},
     "execution_count": 23
    }
   ],
   "source": [
    "nodes.sort(key=lambda x: x.val, reverse=True)\n",
    "nodes"
   ]
  },
  {
   "cell_type": "code",
   "execution_count": 24,
   "metadata": {},
   "outputs": [],
   "source": [
    "from operator import attrgetter"
   ]
  },
  {
   "cell_type": "code",
   "execution_count": 25,
   "metadata": {},
   "outputs": [
    {
     "output_type": "execute_result",
     "data": {
      "text/plain": "[Node(1), Node(2), Node(3)]"
     },
     "metadata": {},
     "execution_count": 25
    }
   ],
   "source": [
    "nodes.sort(key=attrgetter('val'))\n",
    "nodes"
   ]
  },
  {
   "cell_type": "code",
   "execution_count": 26,
   "metadata": {},
   "outputs": [],
   "source": [
    "nodes.sort()"
   ]
  },
  {
   "cell_type": "code",
   "execution_count": 27,
   "metadata": {},
   "outputs": [
    {
     "output_type": "execute_result",
     "data": {
      "text/plain": "[Node(1), Node(2), Node(3)]"
     },
     "metadata": {},
     "execution_count": 27
    }
   ],
   "source": [
    "nodes"
   ]
  },
  {
   "cell_type": "code",
   "execution_count": 29,
   "metadata": {},
   "outputs": [
    {
     "output_type": "execute_result",
     "data": {
      "text/plain": "[Node(1), Node(2), Node(3)]"
     },
     "metadata": {},
     "execution_count": 29
    }
   ],
   "source": [
    "Node.__lt__ = lambda s, o: s.val < o.val\n",
    "nodes = [Node(3), Node(2), Node(1)]\n",
    "nodes.sort()\n",
    "nodes"
   ]
  },
  {
   "cell_type": "code",
   "execution_count": 30,
   "metadata": {},
   "outputs": [],
   "source": [
    "from functools import cmp_to_key"
   ]
  },
  {
   "cell_type": "code",
   "execution_count": 31,
   "metadata": {},
   "outputs": [
    {
     "output_type": "execute_result",
     "data": {
      "text/plain": "[Node(1), Node(2), Node(3)]"
     },
     "metadata": {},
     "execution_count": 31
    }
   ],
   "source": [
    "nodes.sort(key=cmp_to_key(lambda x, y: x.val - y.val))\n",
    "nodes"
   ]
  },
  {
   "cell_type": "code",
   "execution_count": null,
   "metadata": {},
   "outputs": [],
   "source": []
  }
 ]
}