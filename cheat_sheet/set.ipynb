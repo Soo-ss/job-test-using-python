{
 "metadata": {
  "language_info": {
   "codemirror_mode": {
    "name": "ipython",
    "version": 3
   },
   "file_extension": ".py",
   "mimetype": "text/x-python",
   "name": "python",
   "nbconvert_exporter": "python",
   "pygments_lexer": "ipython3",
   "version": "3.8.5-final"
  },
  "orig_nbformat": 2,
  "kernelspec": {
   "name": "python_defaultSpec_1611918421576",
   "display_name": "Python 3.8.5 64-bit"
  }
 },
 "nbformat": 4,
 "nbformat_minor": 2,
 "cells": [
  {
   "cell_type": "code",
   "execution_count": 1,
   "metadata": {},
   "outputs": [
    {
     "output_type": "execute_result",
     "data": {
      "text/plain": "{1, 2, 5, 6, 7}"
     },
     "metadata": {},
     "execution_count": 1
    }
   ],
   "source": [
    "# set comprehension\n",
    "a = [1,2,5,6,6,6,7]\n",
    "s = {x for x in a}\n",
    "s"
   ]
  },
  {
   "cell_type": "code",
   "execution_count": 2,
   "metadata": {},
   "outputs": [
    {
     "output_type": "execute_result",
     "data": {
      "text/plain": "{5, 6, 7}"
     },
     "metadata": {},
     "execution_count": 2
    }
   ],
   "source": [
    "s = {x for x in a if x > 3}\n",
    "s"
   ]
  },
  {
   "cell_type": "code",
   "execution_count": 3,
   "metadata": {},
   "outputs": [
    {
     "output_type": "execute_result",
     "data": {
      "text/plain": "{-1, 5, 6, 7}"
     },
     "metadata": {},
     "execution_count": 3
    }
   ],
   "source": [
    "s = {x if x > 3 else -1 for x in a}\n",
    "s"
   ]
  },
  {
   "cell_type": "code",
   "execution_count": 4,
   "metadata": {},
   "outputs": [
    {
     "output_type": "execute_result",
     "data": {
      "text/plain": "{-1, 5, 6, 7}"
     },
     "metadata": {},
     "execution_count": 4
    }
   ],
   "source": [
    "s"
   ]
  },
  {
   "cell_type": "code",
   "execution_count": 5,
   "metadata": {},
   "outputs": [
    {
     "output_type": "execute_result",
     "data": {
      "text/plain": "[1, 2, 2, 2, 3, 4, 5, 5]"
     },
     "metadata": {},
     "execution_count": 5
    }
   ],
   "source": [
    "# Uniquify a list\n",
    "\n",
    "a = [1,2,2,2,3,4,5,5]\n",
    "a"
   ]
  },
  {
   "cell_type": "code",
   "execution_count": 6,
   "metadata": {},
   "outputs": [
    {
     "output_type": "execute_result",
     "data": {
      "text/plain": "[1, 2, 3, 4, 5]"
     },
     "metadata": {},
     "execution_count": 6
    }
   ],
   "source": [
    "ua = list(set(a))\n",
    "ua"
   ]
  },
  {
   "cell_type": "code",
   "execution_count": 7,
   "metadata": {},
   "outputs": [
    {
     "output_type": "execute_result",
     "data": {
      "text/plain": "{1, 2, 3, 5, 6, 7}"
     },
     "metadata": {},
     "execution_count": 7
    }
   ],
   "source": [
    "# Union Two Sets\n",
    "\n",
    "a = {1,2,2,2,3}\n",
    "b = {5,5,6,6,7}\n",
    "a | b"
   ]
  },
  {
   "cell_type": "code",
   "execution_count": 8,
   "metadata": {},
   "outputs": [
    {
     "output_type": "execute_result",
     "data": {
      "text/plain": "{1, 2, 3, 5, 6, 7}"
     },
     "metadata": {},
     "execution_count": 8
    }
   ],
   "source": [
    "# or\n",
    "a = [1,2,2,2,3]\n",
    "b = [5,5,6,6,7]\n",
    "set(a + b)"
   ]
  },
  {
   "cell_type": "code",
   "execution_count": 9,
   "metadata": {},
   "outputs": [
    {
     "output_type": "execute_result",
     "data": {
      "text/plain": "{1, 2, 3, 5}"
     },
     "metadata": {},
     "execution_count": 9
    }
   ],
   "source": [
    "# Append items to a set\n",
    "\n",
    "a = {1,2,3,3,3}\n",
    "a.add(5)\n",
    "a"
   ]
  },
  {
   "cell_type": "code",
   "execution_count": 10,
   "metadata": {},
   "outputs": [
    {
     "output_type": "execute_result",
     "data": {
      "text/plain": "{1, 2, 3, 4, 5, 6}"
     },
     "metadata": {},
     "execution_count": 10
    }
   ],
   "source": [
    "# or\n",
    "\n",
    "a = {1,2,3,3,3}\n",
    "a |= {1,2,3,4,5,6}\n",
    "a"
   ]
  },
  {
   "cell_type": "code",
   "execution_count": 11,
   "metadata": {},
   "outputs": [
    {
     "output_type": "execute_result",
     "data": {
      "text/plain": "{1}"
     },
     "metadata": {},
     "execution_count": 11
    }
   ],
   "source": [
    "# Intersection Two Sets\n",
    "\n",
    "a = {1,2,2,2,3}\n",
    "b = {1,5,5,6,6,7}\n",
    "a & b"
   ]
  },
  {
   "cell_type": "code",
   "execution_count": 12,
   "metadata": {},
   "outputs": [
    {
     "output_type": "execute_result",
     "data": {
      "text/plain": "[1, 3]"
     },
     "metadata": {},
     "execution_count": 12
    }
   ],
   "source": [
    "# Common items from Sets\n",
    "a = [1,1,2,3]\n",
    "b = [1,3,5,5,6,6]\n",
    "com = list(set(a) & set(b))\n",
    "com"
   ]
  },
  {
   "cell_type": "code",
   "execution_count": 13,
   "metadata": {},
   "outputs": [
    {
     "output_type": "execute_result",
     "data": {
      "text/plain": "True"
     },
     "metadata": {},
     "execution_count": 13
    }
   ],
   "source": [
    "# Contain\n",
    "\n",
    "a = {1,2}\n",
    "b = {1,2,5,6}\n",
    "a <= b"
   ]
  },
  {
   "cell_type": "code",
   "execution_count": 17,
   "metadata": {},
   "outputs": [
    {
     "output_type": "execute_result",
     "data": {
      "text/plain": "True"
     },
     "metadata": {},
     "execution_count": 17
    }
   ],
   "source": [
    "a = {1,2,5,6}\n",
    "b = {1,5,6}\n",
    "a >= b"
   ]
  },
  {
   "cell_type": "code",
   "execution_count": 18,
   "metadata": {},
   "outputs": [
    {
     "output_type": "execute_result",
     "data": {
      "text/plain": "{2, 3}"
     },
     "metadata": {},
     "execution_count": 18
    }
   ],
   "source": [
    "# Set diff\n",
    "a = {1,2,3}\n",
    "b = {1,5,6,7,7}\n",
    "a - b"
   ]
  },
  {
   "cell_type": "code",
   "execution_count": 19,
   "metadata": {},
   "outputs": [
    {
     "output_type": "execute_result",
     "data": {
      "text/plain": "{2, 3, 5, 6, 7}"
     },
     "metadata": {},
     "execution_count": 19
    }
   ],
   "source": [
    "# Symmetric diff\n",
    "\n",
    "a = {1,2,3}\n",
    "b = {1,5,6,7,7}\n",
    "a ^ b"
   ]
  },
  {
   "cell_type": "code",
   "execution_count": null,
   "metadata": {},
   "outputs": [],
   "source": []
  }
 ]
}