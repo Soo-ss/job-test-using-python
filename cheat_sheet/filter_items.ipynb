{
 "metadata": {
  "language_info": {
   "codemirror_mode": {
    "name": "ipython",
    "version": 3
   },
   "file_extension": ".py",
   "mimetype": "text/x-python",
   "name": "python",
   "nbconvert_exporter": "python",
   "pygments_lexer": "ipython3",
   "version": "3.8.5-final"
  },
  "orig_nbformat": 2,
  "kernelspec": {
   "name": "python_defaultSpec_1611902177168",
   "display_name": "Python 3.8.5 64-bit ('ml': conda)"
  }
 },
 "nbformat": 4,
 "nbformat_minor": 2,
 "cells": [
  {
   "cell_type": "code",
   "execution_count": 1,
   "metadata": {},
   "outputs": [
    {
     "output_type": "execute_result",
     "data": {
      "text/plain": "[2, 3, 4]"
     },
     "metadata": {},
     "execution_count": 1
    }
   ],
   "source": [
    "[x for x in range(5) if x > 1]"
   ]
  },
  {
   "cell_type": "code",
   "execution_count": 2,
   "metadata": {},
   "outputs": [
    {
     "output_type": "execute_result",
     "data": {
      "text/plain": "<filter at 0x7f8255179ca0>"
     },
     "metadata": {},
     "execution_count": 2
    }
   ],
   "source": [
    "l = ['1', '2', 3, 'hello', 4]\n",
    "f = lambda x: isinstance(x, int)\n",
    "filter(f, l)"
   ]
  },
  {
   "cell_type": "code",
   "execution_count": 3,
   "metadata": {},
   "outputs": [
    {
     "output_type": "execute_result",
     "data": {
      "text/plain": "[3, 4]"
     },
     "metadata": {},
     "execution_count": 3
    }
   ],
   "source": [
    "list(filter(f, l))"
   ]
  },
  {
   "cell_type": "code",
   "execution_count": 4,
   "metadata": {},
   "outputs": [
    {
     "output_type": "execute_result",
     "data": {
      "text/plain": "[3, 4]"
     },
     "metadata": {},
     "execution_count": 4
    }
   ],
   "source": [
    "list((i for i in l if f(i)))"
   ]
  },
  {
   "cell_type": "code",
   "execution_count": null,
   "metadata": {},
   "outputs": [],
   "source": []
  }
 ]
}