{
 "metadata": {
  "language_info": {
   "codemirror_mode": {
    "name": "ipython",
    "version": 3
   },
   "file_extension": ".py",
   "mimetype": "text/x-python",
   "name": "python",
   "nbconvert_exporter": "python",
   "pygments_lexer": "ipython3",
   "version": "3.8.5-final"
  },
  "orig_nbformat": 2,
  "kernelspec": {
   "name": "python_defaultSpec_1611919264983",
   "display_name": "Python 3.8.5 64-bit"
  }
 },
 "nbformat": 4,
 "nbformat_minor": 2,
 "cells": [
  {
   "cell_type": "code",
   "execution_count": 1,
   "metadata": {},
   "outputs": [
    {
     "output_type": "execute_result",
     "data": {
      "text/plain": "dict_keys(['1', '2', '3'])"
     },
     "metadata": {},
     "execution_count": 1
    }
   ],
   "source": [
    "# Get All Keys\n",
    "\n",
    "a = {'1': 1, '2': 2, '3': 3}\n",
    "b = {'2': 2, '3': 3, '4': 4}\n",
    "a.keys()"
   ]
  },
  {
   "cell_type": "code",
   "execution_count": 2,
   "metadata": {},
   "outputs": [
    {
     "output_type": "execute_result",
     "data": {
      "text/plain": "dict_items([('1', 1), ('2', 2), ('3', 3)])"
     },
     "metadata": {},
     "execution_count": 2
    }
   ],
   "source": [
    "# Get Key and value\n",
    "\n",
    "a = {'1': 1, '2': 2, '3': 3}\n",
    "a.items()"
   ]
  },
  {
   "cell_type": "code",
   "execution_count": 3,
   "metadata": {},
   "outputs": [
    {
     "output_type": "execute_result",
     "data": {
      "text/plain": "['2', '3']"
     },
     "metadata": {},
     "execution_count": 3
    }
   ],
   "source": [
    "# Find Same Keys\n",
    "\n",
    "a = {'1': 1, '2': 2, '3': 3}\n",
    "b = {'2': 2, '3': 3, '4': 4}\n",
    "[_ for _ in a.keys() if _ in b.keys()]"
   ]
  },
  {
   "cell_type": "code",
   "execution_count": 7,
   "metadata": {},
   "outputs": [
    {
     "output_type": "execute_result",
     "data": {
      "text/plain": "['2', '3']"
     },
     "metadata": {},
     "execution_count": 7
    }
   ],
   "source": [
    "# better way\n",
    "\n",
    "c = set(a).intersection(set(b))\n",
    "list(c)"
   ]
  },
  {
   "cell_type": "code",
   "execution_count": 8,
   "metadata": {},
   "outputs": [
    {
     "output_type": "execute_result",
     "data": {
      "text/plain": "['2', '3']"
     },
     "metadata": {},
     "execution_count": 8
    }
   ],
   "source": [
    "# or\n",
    "\n",
    "[_ for _ in a if _ in b]"
   ]
  },
  {
   "cell_type": "code",
   "execution_count": 11,
   "metadata": {},
   "outputs": [
    {
     "output_type": "execute_result",
     "data": {
      "text/plain": "{'foo': []}"
     },
     "metadata": {},
     "execution_count": 11
    }
   ],
   "source": [
    "# Set a Default Value\n",
    "\n",
    "# intuitive but not recommend\n",
    "d = {}\n",
    "key = \"foo\"\n",
    "if key not in d:\n",
    "    d[key] = []\n",
    "\n",
    "d"
   ]
  },
  {
   "cell_type": "code",
   "execution_count": 12,
   "metadata": {},
   "outputs": [
    {
     "output_type": "execute_result",
     "data": {
      "text/plain": "[]"
     },
     "metadata": {},
     "execution_count": 12
    }
   ],
   "source": [
    "# using d.setdefault(key[, default])\n",
    "\n",
    "d = {}\n",
    "key = \"foo\"\n",
    "d.setdefault(key, [])"
   ]
  },
  {
   "cell_type": "code",
   "execution_count": 13,
   "metadata": {},
   "outputs": [
    {
     "output_type": "execute_result",
     "data": {
      "text/plain": "{'foo': 'bar'}"
     },
     "metadata": {},
     "execution_count": 13
    }
   ],
   "source": [
    "d[key] = 'bar'\n",
    "d"
   ]
  },
  {
   "cell_type": "code",
   "execution_count": 14,
   "metadata": {},
   "outputs": [
    {
     "output_type": "execute_result",
     "data": {
      "text/plain": "[]"
     },
     "metadata": {},
     "execution_count": 14
    }
   ],
   "source": [
    "# using collections.defaultdict\n",
    "\n",
    "from collections import defaultdict\n",
    "\n",
    "d = defaultdict(list)\n",
    "d[\"key\"]"
   ]
  },
  {
   "cell_type": "code",
   "execution_count": 15,
   "metadata": {},
   "outputs": [
    {
     "output_type": "execute_result",
     "data": {
      "text/plain": "[]"
     },
     "metadata": {},
     "execution_count": 15
    }
   ],
   "source": [
    "d[\"foo\"]"
   ]
  },
  {
   "cell_type": "code",
   "execution_count": 16,
   "metadata": {},
   "outputs": [
    {
     "output_type": "execute_result",
     "data": {
      "text/plain": "defaultdict(list, {'key': [], 'foo': ['bar']})"
     },
     "metadata": {},
     "execution_count": 16
    }
   ],
   "source": [
    "d[\"foo\"].append(\"bar\")\n",
    "d"
   ]
  },
  {
   "cell_type": "code",
   "execution_count": 17,
   "metadata": {},
   "outputs": [
    {
     "output_type": "execute_result",
     "data": {
      "text/plain": "[]"
     },
     "metadata": {},
     "execution_count": 17
    }
   ],
   "source": [
    "d = {}\n",
    "d.setdefault(\"key\", [])"
   ]
  },
  {
   "cell_type": "code",
   "execution_count": 18,
   "metadata": {},
   "outputs": [
    {
     "output_type": "execute_result",
     "data": {
      "text/plain": "'bar'"
     },
     "metadata": {},
     "execution_count": 18
    }
   ],
   "source": [
    "d[\"key\"] = \"bar\"\n",
    "d.setdefault(\"key\", [])"
   ]
  },
  {
   "cell_type": "code",
   "execution_count": 19,
   "metadata": {},
   "outputs": [
    {
     "output_type": "execute_result",
     "data": {
      "text/plain": "{'1': 1, '2': 2, '3': 3, '4': 4}"
     },
     "metadata": {},
     "execution_count": 19
    }
   ],
   "source": [
    "# Update a Dictionary\n",
    "\n",
    "a = {'1': 1, '2': 2, '3': 3}\n",
    "b = {'2': 2, '3': 3, '4': 4}\n",
    "a.update(b)\n",
    "a"
   ]
  },
  {
   "cell_type": "code",
   "execution_count": 20,
   "metadata": {},
   "outputs": [
    {
     "output_type": "execute_result",
     "data": {
      "text/plain": "{'x': 55, 'y': 66, 'a': 'foo', 'b': 'bar'}"
     },
     "metadata": {},
     "execution_count": 20
    }
   ],
   "source": [
    "# Merge Two Dictionaries\n",
    "\n",
    "a = {'x': 55, 'y': 66}\n",
    "b = {'a': 'foo', 'b': 'bar'}\n",
    "c = {**a, **b}\n",
    "c"
   ]
  },
  {
   "cell_type": "code",
   "execution_count": 21,
   "metadata": {},
   "outputs": [],
   "source": [
    "# Emulating a Dictionary\n",
    "\n",
    "class EmuDict(object):\n",
    "    def __init__(self, dict_):\n",
    "        self._dict = dict_\n",
    "\n",
    "    def __repr__(self):\n",
    "        return \"Emudict: \" + repr(self._dict)\n",
    "\n",
    "    def __getitem__(self, key):\n",
    "        return self._dict[key]\n",
    "\n",
    "    def __setitem__(self, key, val):\n",
    "        self._dict[key] = val\n",
    "\n",
    "    def __delitem__(self, key):\n",
    "        del self._dict[key]\n",
    "\n",
    "    def __contains__(self, key):\n",
    "        return key in self._dict\n",
    "\n",
    "    def __iter__(self):\n",
    "        return iter(self._dict.keys())\n",
    "        "
   ]
  },
  {
   "cell_type": "code",
   "execution_count": 23,
   "metadata": {},
   "outputs": [
    {
     "output_type": "execute_result",
     "data": {
      "text/plain": "Emudict: {'1': 1, '2': 2, '3': 3}"
     },
     "metadata": {},
     "execution_count": 23
    }
   ],
   "source": [
    "_ = {'1': 1, '2': 2, '3': 3}\n",
    "emud = EmuDict(_)\n",
    "emud # __repr__"
   ]
  },
  {
   "cell_type": "code",
   "execution_count": 24,
   "metadata": {},
   "outputs": [
    {
     "output_type": "execute_result",
     "data": {
      "text/plain": "1"
     },
     "metadata": {},
     "execution_count": 24
    }
   ],
   "source": [
    "emud['1'] # __getitem__"
   ]
  },
  {
   "cell_type": "code",
   "execution_count": 25,
   "metadata": {},
   "outputs": [],
   "source": [
    "emud['5'] = 5 # __setitem__"
   ]
  },
  {
   "cell_type": "code",
   "execution_count": 26,
   "metadata": {},
   "outputs": [
    {
     "output_type": "execute_result",
     "data": {
      "text/plain": "Emudict: {'1': 1, '2': 2, '3': 3, '5': 5}"
     },
     "metadata": {},
     "execution_count": 26
    }
   ],
   "source": [
    "emud"
   ]
  },
  {
   "cell_type": "code",
   "execution_count": 27,
   "metadata": {},
   "outputs": [
    {
     "output_type": "execute_result",
     "data": {
      "text/plain": "Emudict: {'1': 1, '3': 3, '5': 5}"
     },
     "metadata": {},
     "execution_count": 27
    }
   ],
   "source": [
    "del emud['2'] # __delitem__\n",
    "emud"
   ]
  },
  {
   "cell_type": "code",
   "execution_count": 28,
   "metadata": {
    "tags": []
   },
   "outputs": [
    {
     "output_type": "stream",
     "name": "stdout",
     "text": "1 3 5 \n"
    }
   ],
   "source": [
    "for _ in emud:\n",
    "    print(emud[_], end=' ') # __iter__\n",
    "else:\n",
    "    print()"
   ]
  },
  {
   "cell_type": "code",
   "execution_count": 29,
   "metadata": {},
   "outputs": [
    {
     "output_type": "execute_result",
     "data": {
      "text/plain": "True"
     },
     "metadata": {},
     "execution_count": 29
    }
   ],
   "source": [
    "'1' in emud # __contains__"
   ]
  },
  {
   "cell_type": "code",
   "execution_count": null,
   "metadata": {},
   "outputs": [],
   "source": []
  }
 ]
}